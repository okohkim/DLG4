{
  "nbformat": 4,
  "nbformat_minor": 0,
  "metadata": {
    "colab": {
      "provenance": [],
      "include_colab_link": true
    },
    "kernelspec": {
      "name": "python3",
      "display_name": "Python 3"
    },
    "language_info": {
      "name": "python"
    }
  },
  "cells": [
    {
      "cell_type": "markdown",
      "metadata": {
        "id": "view-in-github",
        "colab_type": "text"
      },
      "source": [
        "<a href=\"https://colab.research.google.com/github/ssommmii03/DLG4/blob/main/Q14.ipynb\" target=\"_parent\"><img src=\"https://colab.research.google.com/assets/colab-badge.svg\" alt=\"Open In Colab\"/></a>"
      ]
    },
    {
      "cell_type": "markdown",
      "source": [
        "Q.14 [1] Create a list of your favorite colors called color_list with at least three colors. [2] Use a for loop to iterate through the list and print each color."
      ],
      "metadata": {
        "id": "p9AR1CwRqBVv"
      }
    },
    {
      "cell_type": "code",
      "execution_count": 2,
      "metadata": {
        "id": "L-K1OQtTp5Ub",
        "outputId": "1df5e3e8-a0ae-4079-83c5-2ae825e02215",
        "colab": {
          "base_uri": "https://localhost:8080/"
        }
      },
      "outputs": [
        {
          "output_type": "stream",
          "name": "stdout",
          "text": [
            "white\n",
            "yellow\n",
            "blue\n"
          ]
        }
      ],
      "source": [
        "color_list = [\"white\", \"yellow\", \"blue\"]\n",
        "\n",
        "for c in color_list:\n",
        "  print(c)"
      ]
    }
  ]
}