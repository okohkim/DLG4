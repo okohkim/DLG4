{
  "nbformat": 4,
  "nbformat_minor": 0,
  "metadata": {
    "colab": {
      "provenance": [],
      "include_colab_link": true
    },
    "kernelspec": {
      "name": "python3",
      "display_name": "Python 3"
    },
    "language_info": {
      "name": "python"
    }
  },
  "cells": [
    {
      "cell_type": "markdown",
      "metadata": {
        "id": "view-in-github",
        "colab_type": "text"
      },
      "source": [
        "<a href=\"https://colab.research.google.com/github/upsky-329/DLG4/blob/main/Q11.ipynb\" target=\"_parent\"><img src=\"https://colab.research.google.com/assets/colab-badge.svg\" alt=\"Open In Colab\"/></a>"
      ]
    },
    {
      "cell_type": "markdown",
      "source": [
        "Q.11 Create a variable called my_list and set it to [1, 2, 3, 4, 5]. Use the len() function to find the length of the list. Then, print the length."
      ],
      "metadata": {
        "id": "jMiv3lFJojUo"
      }
    },
    {
      "cell_type": "code",
      "execution_count": 1,
      "metadata": {
        "id": "4e8SvCHGociK",
        "colab": {
          "base_uri": "https://localhost:8080/"
        },
        "outputId": "36296ad7-fdd2-4df6-c337-cab17a683662"
      },
      "outputs": [
        {
          "output_type": "execute_result",
          "data": {
            "text/plain": [
              "5"
            ]
          },
          "metadata": {},
          "execution_count": 1
        }
      ],
      "source": [
        "my_list=[1,2,3,4,5]\n",
        "len(my_list)"
      ]
    }
  ]
}